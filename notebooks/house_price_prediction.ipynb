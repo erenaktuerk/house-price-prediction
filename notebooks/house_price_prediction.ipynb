{
 "cells": [
  {
   "cell_type": "code",
   "execution_count": null,
   "metadata": {
    "vscode": {
     "languageId": "plaintext"
    }
   },
   "outputs": [],
   "source": [
    "# House Price Prediction Notebook\n",
    "\n",
    "# =============================================================================\n",
    "# Step 1: Import necessary libraries\n",
    "# =============================================================================\n",
    "import pandas as pd\n",
    "import numpy as np\n",
    "import seaborn as sns\n",
    "import matplotlib.pyplot as plt\n",
    "from sklearn.model_selection import train_test_split\n",
    "from src.data_preprocessing import load_data, preprocess_data\n",
    "from src.model import train_model, evaluate_model\n",
    "\n",
    "# =============================================================================\n",
    "# Step 2: Load the data\n",
    "# =============================================================================\n",
    "train_df = load_data('data/train.csv')\n",
    "\n",
    "# =============================================================================\n",
    "# Step 3: Preprocess the data\n",
    "# =============================================================================\n",
    "# Preprocess the dataset: handle missing values, create derived features, etc.\n",
    "X, y = preprocess_data(train_df)\n",
    "\n",
    "# =============================================================================\n",
    "# Step 3.1: Exploratory Data Analysis (EDA)\n",
    "# =============================================================================\n",
    "# Generate a correlation heatmap to understand relationships between features and the target.\n",
    "plt.figure(figsize=(12, 10))\n",
    "corr = train_df.corr()  # Compute the correlation matrix on the raw data\n",
    "sns.heatmap(corr, annot=True, fmt=\".2f\", cmap=\"coolwarm\")\n",
    "plt.title(\"Correlation Heatmap of the Dataset\")\n",
    "plt.show()\n",
    "\n",
    "# Optional: Display distributions for key features\n",
    "important_features = [\"SalePrice\", \"GrLivArea\", \"TotRmsAbvGrd\", \"YearBuilt\"]\n",
    "train_df[important_features].hist(bins=30, figsize=(12, 8))\n",
    "plt.suptitle(\"Distributions of Important Features\")\n",
    "plt.show()\n",
    "\n",
    "# =============================================================================\n",
    "# Step 4: Split the data into training and testing sets\n",
    "# =============================================================================\n",
    "X_train, X_test, y_train, y_test = train_test_split(X, y, test_size=0.2, random_state=42)\n",
    "\n",
    "# =============================================================================\n",
    "# Step 5: Train the model\n",
    "# =============================================================================\n",
    "model = train_model(X_train, y_train)\n",
    "\n",
    "# =============================================================================\n",
    "# Step 6: Evaluate the model with multiple metrics\n",
    "# =============================================================================\n",
    "# Use evaluate_model function which now returns a dictionary with MSE, MAE, RMSE, and R² Score.\n",
    "metrics = evaluate_model(model, X_test, y_test)\n",
    "print(\"Evaluation Metrics:\")\n",
    "for metric, value in metrics.items():\n",
    "    print(f\"{metric}: {value}\")\n",
    "\n",
    "# =============================================================================\n",
    "# Step 7: Visualize Feature Importance\n",
    "# =============================================================================\n",
    "# Visualize the feature importance using the columns from the original dataset, \n",
    "# excluding the target column 'SalePrice'\n",
    "from src.utils import plot_feature_importance\n",
    "plot_feature_importance(model, train_df.drop(columns=[\"SalePrice\"]).columns)"
   ]
  }
 ],
 "metadata": {
  "language_info": {
   "name": "python"
  }
 },
 "nbformat": 4,
 "nbformat_minor": 2
}
